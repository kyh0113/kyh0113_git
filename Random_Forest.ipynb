{
  "nbformat": 4,
  "nbformat_minor": 0,
  "metadata": {
    "colab": {
      "name": "Random Forest.ipynb",
      "provenance": [],
      "collapsed_sections": []
    },
    "kernelspec": {
      "name": "python3",
      "display_name": "Python 3"
    },
    "accelerator": "GPU"
  },
  "cells": [
    {
      "cell_type": "markdown",
      "metadata": {
        "id": "RgpVLzgrfoFI"
      },
      "source": [
        "데이터 불러오기"
      ]
    },
    {
      "cell_type": "code",
      "metadata": {
        "id": "7RvPbsuFfrev",
        "colab": {
          "base_uri": "https://localhost:8080/"
        },
        "outputId": "8bab3a65-8528-43b2-ef5d-e8ab576bbc4b"
      },
      "source": [
        "import pandas as pd\n",
        "import numpy as np\n",
        "\n",
        "test_data = pd.read_csv('/content/drive/MyDrive/김영희/influenza_COVID-19_One-Hot Encoding.csv',encoding='utf-8')\n",
        "test_data.info()"
      ],
      "execution_count": 13,
      "outputs": [
        {
          "output_type": "stream",
          "text": [
            "<class 'pandas.core.frame.DataFrame'>\n",
            "RangeIndex: 63360 entries, 0 to 63359\n",
            "Data columns (total 19 columns):\n",
            " #   Column                   Non-Null Count  Dtype\n",
            "---  ------                   --------------  -----\n",
            " 0   Fever                    63360 non-null  int64\n",
            " 1   Cough                    63360 non-null  int64\n",
            " 2   Difficulty-in-Breathing  63360 non-null  int64\n",
            " 3   Sore-Throat              63360 non-null  int64\n",
            " 4   Nasal-Congestion         63360 non-null  int64\n",
            " 5   Diarrhea                 63360 non-null  int64\n",
            " 6   Age_0-9                  63360 non-null  int64\n",
            " 7   Age_10-19                63360 non-null  int64\n",
            " 8   Age_20-24                63360 non-null  int64\n",
            " 9   Age_25-59                63360 non-null  int64\n",
            " 10  Age_60+                  63360 non-null  int64\n",
            " 11  Gender_Female            63360 non-null  int64\n",
            " 12  Gender_Male              63360 non-null  int64\n",
            " 13  Gender_Transgender       63360 non-null  int64\n",
            " 14  Severity_Mild            63360 non-null  int64\n",
            " 15  Severity_Moderate        63360 non-null  int64\n",
            " 16  Severity_None            63360 non-null  int64\n",
            " 17  Severity_Severe          63360 non-null  int64\n",
            " 18  COVID-19                 63360 non-null  int64\n",
            "dtypes: int64(19)\n",
            "memory usage: 9.2 MB\n"
          ],
          "name": "stdout"
        }
      ]
    },
    {
      "cell_type": "markdown",
      "metadata": {
        "id": "W5eEk2HjgZH2"
      },
      "source": [
        "속성데이터와 결과 데이터를 나누기 "
      ]
    },
    {
      "cell_type": "code",
      "metadata": {
        "id": "lKpxnsU0gg3f"
      },
      "source": [
        "x_data = test_data.iloc[:, 0:18] #속성\n",
        "y_data = test_data.iloc[:, 18] #답"
      ],
      "execution_count": 14,
      "outputs": []
    },
    {
      "cell_type": "markdown",
      "metadata": {
        "id": "2K5_qV1egjDN"
      },
      "source": [
        "train_test_split이용해서 훈련데이터와 검증데이터를 나누기"
      ]
    },
    {
      "cell_type": "code",
      "metadata": {
        "id": "jFmxjfJmglpG"
      },
      "source": [
        "# from sklearn.model_selection import train_test_split\n",
        "# x_train, x_test, y_train, y_test = train_test_split(x_data, y_data, test_size=0.3,\n",
        "#                                                      random_state=7) \n",
        "\n",
        "from sklearn.model_selection import train_test_split\n",
        "best_size = 0.5\n",
        "best_state = 100\n",
        "x_train, x_test, y_train, y_test = train_test_split(x_data, y_data\n",
        "                                                      ,test_size=best_size #테스트용, 학습용 비율을 결정하는 값 ex) 0.5 = 반반씩.\n",
        "                                                     ,random_state=best_state # 데이터가 정렬되어 있는 경우 섞어주는 작업이 필요하여 필요한 부분.\n",
        "                                                      , stratify=y_data) #필수는 아니지만 test, train 데이터를 나눌때 y값의 비율을 맞추고자 쓴 부분"
      ],
      "execution_count": 15,
      "outputs": []
    },
    {
      "cell_type": "markdown",
      "metadata": {
        "id": "b5uSlD3nvLLg"
      },
      "source": [
        "랜덤 포레스트 알고리즘 적용 (기본으로한거) - 랜덤 포레스트 자체가 정확도가 높은걸로 유명함"
      ]
    },
    {
      "cell_type": "code",
      "metadata": {
        "id": "XsRpHyKlvNGW",
        "colab": {
          "base_uri": "https://localhost:8080/"
        },
        "outputId": "0119fc8e-bf6e-47fd-85a9-26fd9b66d011"
      },
      "source": [
        "from sklearn.ensemble import RandomForestClassifier\n",
        "\n",
        "rf = RandomForestClassifier(random_state=1)\n",
        "rf.fit(x_train,y_train)"
      ],
      "execution_count": 16,
      "outputs": [
        {
          "output_type": "execute_result",
          "data": {
            "text/plain": [
              "RandomForestClassifier(bootstrap=True, ccp_alpha=0.0, class_weight=None,\n",
              "                       criterion='gini', max_depth=None, max_features='auto',\n",
              "                       max_leaf_nodes=None, max_samples=None,\n",
              "                       min_impurity_decrease=0.0, min_impurity_split=None,\n",
              "                       min_samples_leaf=1, min_samples_split=2,\n",
              "                       min_weight_fraction_leaf=0.0, n_estimators=100,\n",
              "                       n_jobs=None, oob_score=False, random_state=1, verbose=0,\n",
              "                       warm_start=False)"
            ]
          },
          "metadata": {
            "tags": []
          },
          "execution_count": 16
        }
      ]
    },
    {
      "cell_type": "markdown",
      "metadata": {
        "id": "ZYT47ZUnvdGf"
      },
      "source": [
        "정확도 확인하기 (이미 이거 자체로도 높음)"
      ]
    },
    {
      "cell_type": "code",
      "metadata": {
        "id": "7oVEebUcveiP",
        "colab": {
          "base_uri": "https://localhost:8080/"
        },
        "outputId": "c284eaf7-98d1-44df-d5aa-51046645adac"
      },
      "source": [
        "print (\" score : %f\" %rf.score(x_test, y_test))"
      ],
      "execution_count": 17,
      "outputs": [
        {
          "output_type": "stream",
          "text": [
            " score : 0.890878\n"
          ],
          "name": "stdout"
        }
      ]
    },
    {
      "cell_type": "markdown",
      "metadata": {
        "id": "TBMraXXPxosm"
      },
      "source": [
        "Random Forest의 하이퍼 파라미터 튜닝 (하지만 더 높여보겠음)"
      ]
    },
    {
      "cell_type": "code",
      "metadata": {
        "id": "4sR4ZfUBxtFN",
        "colab": {
          "base_uri": "https://localhost:8080/"
        },
        "outputId": "4f9983ac-9c20-4fe5-f095-1bb85f8aa4ec"
      },
      "source": [
        "from sklearn.model_selection import GridSearchCV \n",
        "\n",
        "param_range1=[50,100,150,200]\n",
        "param_range2=[2,5,8,11]\n",
        "param_range3=[5,8,11,14,17]\n",
        "\n",
        "rf_param_grid = {\n",
        "    'n_estimators' : param_range1,   #결정트리 개수\n",
        "    'max_depth' : param_range3,   #데이터의 feature을 참조할 비율\n",
        "    'max_features' : param_range2,   #트리의 깊이\n",
        "    'min_samples_leaf' : param_range2,   #리프노드가 되기 위한 최소한의 샘플 데이터 수\n",
        "    'min_samples_split' : param_range2    #노드를 분할하기 위한 최소한의 데이터 수 \n",
        "}\n",
        "\n",
        "rf_grid = GridSearchCV(rf, param_grid=rf_param_grid, scoring=\"accuracy\", n_jobs=-1, verbose =1)\n",
        "rf_grid.fit(x_train, y_train)\n",
        "\n",
        "print(\"최고의 파라미터 : \", rf_grid.best_params_ ) #알아서 최고의 파라미터를 뽑아줌\n"
      ],
      "execution_count": 18,
      "outputs": [
        {
          "output_type": "stream",
          "text": [
            "Fitting 5 folds for each of 1280 candidates, totalling 6400 fits\n"
          ],
          "name": "stdout"
        },
        {
          "output_type": "stream",
          "text": [
            "[Parallel(n_jobs=-1)]: Using backend LokyBackend with 2 concurrent workers.\n",
            "[Parallel(n_jobs=-1)]: Done  46 tasks      | elapsed:   23.3s\n",
            "[Parallel(n_jobs=-1)]: Done 196 tasks      | elapsed:  1.7min\n",
            "[Parallel(n_jobs=-1)]: Done 446 tasks      | elapsed:  4.2min\n",
            "[Parallel(n_jobs=-1)]: Done 796 tasks      | elapsed:  8.5min\n",
            "[Parallel(n_jobs=-1)]: Done 1246 tasks      | elapsed: 15.5min\n",
            "[Parallel(n_jobs=-1)]: Done 1796 tasks      | elapsed: 22.1min\n",
            "[Parallel(n_jobs=-1)]: Done 2446 tasks      | elapsed: 33.5min\n",
            "[Parallel(n_jobs=-1)]: Done 3196 tasks      | elapsed: 45.0min\n",
            "[Parallel(n_jobs=-1)]: Done 4046 tasks      | elapsed: 61.6min\n",
            "[Parallel(n_jobs=-1)]: Done 4996 tasks      | elapsed: 80.3min\n",
            "[Parallel(n_jobs=-1)]: Done 6046 tasks      | elapsed: 99.5min\n",
            "[Parallel(n_jobs=-1)]: Done 6400 out of 6400 | elapsed: 108.1min finished\n"
          ],
          "name": "stderr"
        },
        {
          "output_type": "stream",
          "text": [
            "최고의 파라미터 :  {'max_depth': 5, 'max_features': 11, 'min_samples_leaf': 2, 'min_samples_split': 2, 'n_estimators': 150}\n"
          ],
          "name": "stdout"
        }
      ]
    },
    {
      "cell_type": "markdown",
      "metadata": {
        "id": "RKTVw7x09U6_"
      },
      "source": [
        "최고의 파라미터 대로 훈련시킬 경우"
      ]
    },
    {
      "cell_type": "code",
      "metadata": {
        "id": "BNS3wIgh9YkW",
        "colab": {
          "base_uri": "https://localhost:8080/"
        },
        "outputId": "6d2f69d8-d68a-4e6f-bc8f-a7cb8ac14da2"
      },
      "source": [
        "model = RandomForestClassifier(random_state=0, \n",
        "                               n_estimators=rf_grid.best_params_['n_estimators'], \n",
        "                               max_depth=rf_grid.best_params_['max_depth'],\n",
        "                               max_features=rf_grid.best_params_['max_features'],\n",
        "                               min_samples_leaf=rf_grid.best_params_['min_samples_leaf'],\n",
        "                               min_samples_split=rf_grid.best_params_['min_samples_split'],\n",
        "                               verbose=1, \n",
        "                               n_jobs=-1, \n",
        "                               warm_start=True)\n",
        "\n",
        "model.fit(x_train, y_train)\n",
        "print (\"튜닝한 후 정확도 : %f\" %model.score(x_test, y_test)) # 조금 더 높아짐\n"
      ],
      "execution_count": 19,
      "outputs": [
        {
          "output_type": "stream",
          "text": [
            "[Parallel(n_jobs=-1)]: Using backend ThreadingBackend with 2 concurrent workers.\n",
            "[Parallel(n_jobs=-1)]: Done  46 tasks      | elapsed:    0.4s\n",
            "[Parallel(n_jobs=-1)]: Done 150 out of 150 | elapsed:    1.4s finished\n",
            "[Parallel(n_jobs=2)]: Using backend ThreadingBackend with 2 concurrent workers.\n",
            "[Parallel(n_jobs=2)]: Done  46 tasks      | elapsed:    0.1s\n"
          ],
          "name": "stderr"
        },
        {
          "output_type": "stream",
          "text": [
            "튜닝한 후 정확도 : 0.900473\n"
          ],
          "name": "stdout"
        },
        {
          "output_type": "stream",
          "text": [
            "[Parallel(n_jobs=2)]: Done 150 out of 150 | elapsed:    0.2s finished\n"
          ],
          "name": "stderr"
        }
      ]
    },
    {
      "cell_type": "markdown",
      "metadata": {
        "id": "Cl640ghlFR7n"
      },
      "source": [
        "가상데이터 적용"
      ]
    },
    {
      "cell_type": "code",
      "metadata": {
        "id": "lT71hZQPFTwe"
      },
      "source": [
        "Yoo = np.array([\n",
        "    1,# Fever\n",
        "    1,# Cough\n",
        "    0,0,\n",
        "    1,# Nasal-Congestion\n",
        "    0,0,0,0,\n",
        "    1,# Age_25-59\n",
        "    0,0,\n",
        "    1,# Gender_Male\n",
        "    0,\n",
        "    1,# Serverity_Mild\n",
        "    0,0,0]).reshape(1,18)"
      ],
      "execution_count": 20,
      "outputs": []
    },
    {
      "cell_type": "markdown",
      "metadata": {
        "id": "VvSghbQXFWcH"
      },
      "source": [
        "예측"
      ]
    },
    {
      "cell_type": "code",
      "metadata": {
        "id": "QzqOK-jJFXVt",
        "colab": {
          "base_uri": "https://localhost:8080/"
        },
        "outputId": "24399634-3ad4-48de-91a1-7f35e62e9dc5"
      },
      "source": [
        "print(model.predict_proba(Yoo))"
      ],
      "execution_count": 21,
      "outputs": [
        {
          "output_type": "stream",
          "text": [
            "[Parallel(n_jobs=2)]: Using backend ThreadingBackend with 2 concurrent workers.\n",
            "[Parallel(n_jobs=2)]: Done  46 tasks      | elapsed:    0.0s\n",
            "[Parallel(n_jobs=2)]: Done 150 out of 150 | elapsed:    0.0s finished\n"
          ],
          "name": "stderr"
        },
        {
          "output_type": "stream",
          "text": [
            "[[0.90848094 0.09151906]]\n"
          ],
          "name": "stdout"
        }
      ]
    },
    {
      "cell_type": "markdown",
      "metadata": {
        "id": "7Hv6Fsi5TU8N"
      },
      "source": [
        "어떤 파라미터가 제일 중요한지 확인해봄"
      ]
    },
    {
      "cell_type": "code",
      "metadata": {
        "id": "IFUwgF0WTZc9"
      },
      "source": [
        "feature_importances = model.feature_importances_"
      ],
      "execution_count": 22,
      "outputs": []
    },
    {
      "cell_type": "code",
      "metadata": {
        "id": "H1MbX8srUA62",
        "colab": {
          "base_uri": "https://localhost:8080/",
          "height": 607
        },
        "outputId": "baf5e169-fe18-4f51-96e0-d66ae1066c3a"
      },
      "source": [
        "import matplotlib.pyplot as plt\n",
        "import seaborn as sns\n",
        "\n",
        "ft_importances = pd.Series(feature_importances, index = x_train.columns)\n",
        "ft_importances = ft_importances.sort_values(ascending=False)\n",
        "\n",
        "plt.figure(figsize=(12,10))\n",
        "plt.title(\"feature importances\")\n",
        "sns.barplot(x=ft_importances, y = x_train.columns)\n",
        "plt.show()"
      ],
      "execution_count": 23,
      "outputs": [
        {
          "output_type": "display_data",
          "data": {
            "image/png": "[encoded data removed]",
            "text/plain": [
              "<Figure size 864x720 with 1 Axes>"
            ]
          },
          "metadata": {
            "tags": [],
            "needs_background": "light"
          }
        }
      ]
    }
  ]
}